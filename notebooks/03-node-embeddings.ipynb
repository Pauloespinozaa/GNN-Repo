{
  "nbformat": 4,
  "nbformat_minor": 0,
  "metadata": {
    "colab": {
      "name": "03-node-embeddings.ipynb",
      "provenance": [],
      "collapsed_sections": [],
      "authorship_tag": "ABX9TyNc68Y7zpXYObRb5qodZbYb",
      "include_colab_link": true
    },
    "kernelspec": {
      "name": "python3",
      "display_name": "Python 3"
    },
    "language_info": {
      "name": "python"
    },
    "widgets": {
      "application/vnd.jupyter.widget-state+json": {
        "949b035caf3344c1b75c1a38c13159ce": {
          "model_module": "@jupyter-widgets/controls",
          "model_name": "HBoxModel",
          "model_module_version": "1.5.0",
          "state": {
            "_view_name": "HBoxView",
            "_dom_classes": [],
            "_model_name": "HBoxModel",
            "_view_module": "@jupyter-widgets/controls",
            "_model_module_version": "1.5.0",
            "_view_count": null,
            "_view_module_version": "1.5.0",
            "box_style": "",
            "layout": "IPY_MODEL_006da55bb4774cc5b5f684f9167a7e83",
            "_model_module": "@jupyter-widgets/controls",
            "children": [
              "IPY_MODEL_97922ea31ea54de1a16b6c540fa600de",
              "IPY_MODEL_0be807acd97645ea9d3ae37f0c0f43e0",
              "IPY_MODEL_efc7a1e0243e4235a11e703a3991d5f7"
            ]
          }
        },
        "006da55bb4774cc5b5f684f9167a7e83": {
          "model_module": "@jupyter-widgets/base",
          "model_name": "LayoutModel",
          "model_module_version": "1.2.0",
          "state": {
            "_view_name": "LayoutView",
            "grid_template_rows": null,
            "right": null,
            "justify_content": null,
            "_view_module": "@jupyter-widgets/base",
            "overflow": null,
            "_model_module_version": "1.2.0",
            "_view_count": null,
            "flex_flow": null,
            "width": null,
            "min_width": null,
            "border": null,
            "align_items": null,
            "bottom": null,
            "_model_module": "@jupyter-widgets/base",
            "top": null,
            "grid_column": null,
            "overflow_y": null,
            "overflow_x": null,
            "grid_auto_flow": null,
            "grid_area": null,
            "grid_template_columns": null,
            "flex": null,
            "_model_name": "LayoutModel",
            "justify_items": null,
            "grid_row": null,
            "max_height": null,
            "align_content": null,
            "visibility": null,
            "align_self": null,
            "height": null,
            "min_height": null,
            "padding": null,
            "grid_auto_rows": null,
            "grid_gap": null,
            "max_width": null,
            "order": null,
            "_view_module_version": "1.2.0",
            "grid_template_areas": null,
            "object_position": null,
            "object_fit": null,
            "grid_auto_columns": null,
            "margin": null,
            "display": null,
            "left": null
          }
        },
        "97922ea31ea54de1a16b6c540fa600de": {
          "model_module": "@jupyter-widgets/controls",
          "model_name": "HTMLModel",
          "model_module_version": "1.5.0",
          "state": {
            "_view_name": "HTMLView",
            "style": "IPY_MODEL_6b13c3f56fbc4453b17e59c0cd5565ec",
            "_dom_classes": [],
            "description": "",
            "_model_name": "HTMLModel",
            "placeholder": "​",
            "_view_module": "@jupyter-widgets/controls",
            "_model_module_version": "1.5.0",
            "value": "100%",
            "_view_count": null,
            "_view_module_version": "1.5.0",
            "description_tooltip": null,
            "_model_module": "@jupyter-widgets/controls",
            "layout": "IPY_MODEL_0bec0114c4194a348cc0c9d9e808b226"
          }
        },
        "0be807acd97645ea9d3ae37f0c0f43e0": {
          "model_module": "@jupyter-widgets/controls",
          "model_name": "FloatProgressModel",
          "model_module_version": "1.5.0",
          "state": {
            "_view_name": "ProgressView",
            "style": "IPY_MODEL_69e2a76590684b41a0c30615c4bf6979",
            "_dom_classes": [],
            "description": "",
            "_model_name": "FloatProgressModel",
            "bar_style": "success",
            "max": 1000,
            "_view_module": "@jupyter-widgets/controls",
            "_model_module_version": "1.5.0",
            "value": 1000,
            "_view_count": null,
            "_view_module_version": "1.5.0",
            "orientation": "horizontal",
            "min": 0,
            "description_tooltip": null,
            "_model_module": "@jupyter-widgets/controls",
            "layout": "IPY_MODEL_bc55081df29d4dffbbc5b9927e664a94"
          }
        },
        "efc7a1e0243e4235a11e703a3991d5f7": {
          "model_module": "@jupyter-widgets/controls",
          "model_name": "HTMLModel",
          "model_module_version": "1.5.0",
          "state": {
            "_view_name": "HTMLView",
            "style": "IPY_MODEL_ec53c4c779f843269e302eb0b05be232",
            "_dom_classes": [],
            "description": "",
            "_model_name": "HTMLModel",
            "placeholder": "​",
            "_view_module": "@jupyter-widgets/controls",
            "_model_module_version": "1.5.0",
            "value": " 1000/1000 [01:51&lt;00:00, 11.05it/s]",
            "_view_count": null,
            "_view_module_version": "1.5.0",
            "description_tooltip": null,
            "_model_module": "@jupyter-widgets/controls",
            "layout": "IPY_MODEL_6f095cfab54b4e29902a0000854c0171"
          }
        },
        "6b13c3f56fbc4453b17e59c0cd5565ec": {
          "model_module": "@jupyter-widgets/controls",
          "model_name": "DescriptionStyleModel",
          "model_module_version": "1.5.0",
          "state": {
            "_view_name": "StyleView",
            "_model_name": "DescriptionStyleModel",
            "description_width": "",
            "_view_module": "@jupyter-widgets/base",
            "_model_module_version": "1.5.0",
            "_view_count": null,
            "_view_module_version": "1.2.0",
            "_model_module": "@jupyter-widgets/controls"
          }
        },
        "0bec0114c4194a348cc0c9d9e808b226": {
          "model_module": "@jupyter-widgets/base",
          "model_name": "LayoutModel",
          "model_module_version": "1.2.0",
          "state": {
            "_view_name": "LayoutView",
            "grid_template_rows": null,
            "right": null,
            "justify_content": null,
            "_view_module": "@jupyter-widgets/base",
            "overflow": null,
            "_model_module_version": "1.2.0",
            "_view_count": null,
            "flex_flow": null,
            "width": null,
            "min_width": null,
            "border": null,
            "align_items": null,
            "bottom": null,
            "_model_module": "@jupyter-widgets/base",
            "top": null,
            "grid_column": null,
            "overflow_y": null,
            "overflow_x": null,
            "grid_auto_flow": null,
            "grid_area": null,
            "grid_template_columns": null,
            "flex": null,
            "_model_name": "LayoutModel",
            "justify_items": null,
            "grid_row": null,
            "max_height": null,
            "align_content": null,
            "visibility": null,
            "align_self": null,
            "height": null,
            "min_height": null,
            "padding": null,
            "grid_auto_rows": null,
            "grid_gap": null,
            "max_width": null,
            "order": null,
            "_view_module_version": "1.2.0",
            "grid_template_areas": null,
            "object_position": null,
            "object_fit": null,
            "grid_auto_columns": null,
            "margin": null,
            "display": null,
            "left": null
          }
        },
        "69e2a76590684b41a0c30615c4bf6979": {
          "model_module": "@jupyter-widgets/controls",
          "model_name": "ProgressStyleModel",
          "model_module_version": "1.5.0",
          "state": {
            "_view_name": "StyleView",
            "_model_name": "ProgressStyleModel",
            "description_width": "",
            "_view_module": "@jupyter-widgets/base",
            "_model_module_version": "1.5.0",
            "_view_count": null,
            "_view_module_version": "1.2.0",
            "bar_color": null,
            "_model_module": "@jupyter-widgets/controls"
          }
        },
        "bc55081df29d4dffbbc5b9927e664a94": {
          "model_module": "@jupyter-widgets/base",
          "model_name": "LayoutModel",
          "model_module_version": "1.2.0",
          "state": {
            "_view_name": "LayoutView",
            "grid_template_rows": null,
            "right": null,
            "justify_content": null,
            "_view_module": "@jupyter-widgets/base",
            "overflow": null,
            "_model_module_version": "1.2.0",
            "_view_count": null,
            "flex_flow": null,
            "width": null,
            "min_width": null,
            "border": null,
            "align_items": null,
            "bottom": null,
            "_model_module": "@jupyter-widgets/base",
            "top": null,
            "grid_column": null,
            "overflow_y": null,
            "overflow_x": null,
            "grid_auto_flow": null,
            "grid_area": null,
            "grid_template_columns": null,
            "flex": null,
            "_model_name": "LayoutModel",
            "justify_items": null,
            "grid_row": null,
            "max_height": null,
            "align_content": null,
            "visibility": null,
            "align_self": null,
            "height": null,
            "min_height": null,
            "padding": null,
            "grid_auto_rows": null,
            "grid_gap": null,
            "max_width": null,
            "order": null,
            "_view_module_version": "1.2.0",
            "grid_template_areas": null,
            "object_position": null,
            "object_fit": null,
            "grid_auto_columns": null,
            "margin": null,
            "display": null,
            "left": null
          }
        },
        "ec53c4c779f843269e302eb0b05be232": {
          "model_module": "@jupyter-widgets/controls",
          "model_name": "DescriptionStyleModel",
          "model_module_version": "1.5.0",
          "state": {
            "_view_name": "StyleView",
            "_model_name": "DescriptionStyleModel",
            "description_width": "",
            "_view_module": "@jupyter-widgets/base",
            "_model_module_version": "1.5.0",
            "_view_count": null,
            "_view_module_version": "1.2.0",
            "_model_module": "@jupyter-widgets/controls"
          }
        },
        "6f095cfab54b4e29902a0000854c0171": {
          "model_module": "@jupyter-widgets/base",
          "model_name": "LayoutModel",
          "model_module_version": "1.2.0",
          "state": {
            "_view_name": "LayoutView",
            "grid_template_rows": null,
            "right": null,
            "justify_content": null,
            "_view_module": "@jupyter-widgets/base",
            "overflow": null,
            "_model_module_version": "1.2.0",
            "_view_count": null,
            "flex_flow": null,
            "width": null,
            "min_width": null,
            "border": null,
            "align_items": null,
            "bottom": null,
            "_model_module": "@jupyter-widgets/base",
            "top": null,
            "grid_column": null,
            "overflow_y": null,
            "overflow_x": null,
            "grid_auto_flow": null,
            "grid_area": null,
            "grid_template_columns": null,
            "flex": null,
            "_model_name": "LayoutModel",
            "justify_items": null,
            "grid_row": null,
            "max_height": null,
            "align_content": null,
            "visibility": null,
            "align_self": null,
            "height": null,
            "min_height": null,
            "padding": null,
            "grid_auto_rows": null,
            "grid_gap": null,
            "max_width": null,
            "order": null,
            "_view_module_version": "1.2.0",
            "grid_template_areas": null,
            "object_position": null,
            "object_fit": null,
            "grid_auto_columns": null,
            "margin": null,
            "display": null,
            "left": null
          }
        },
        "2585dce4a90b4244bc3d032927bbfc32": {
          "model_module": "@jupyter-widgets/controls",
          "model_name": "HBoxModel",
          "model_module_version": "1.5.0",
          "state": {
            "_view_name": "HBoxView",
            "_dom_classes": [],
            "_model_name": "HBoxModel",
            "_view_module": "@jupyter-widgets/controls",
            "_model_module_version": "1.5.0",
            "_view_count": null,
            "_view_module_version": "1.5.0",
            "box_style": "",
            "layout": "IPY_MODEL_dc0a1af9749e4c81909514de424b3bbd",
            "_model_module": "@jupyter-widgets/controls",
            "children": [
              "IPY_MODEL_f8fd5d12955c4e4cbf3091bfefee0370",
              "IPY_MODEL_825476078e154e39961d98078e28b56f",
              "IPY_MODEL_840cd394f66f4d5cb7ff01bedb57c753"
            ]
          }
        },
        "dc0a1af9749e4c81909514de424b3bbd": {
          "model_module": "@jupyter-widgets/base",
          "model_name": "LayoutModel",
          "model_module_version": "1.2.0",
          "state": {
            "_view_name": "LayoutView",
            "grid_template_rows": null,
            "right": null,
            "justify_content": null,
            "_view_module": "@jupyter-widgets/base",
            "overflow": null,
            "_model_module_version": "1.2.0",
            "_view_count": null,
            "flex_flow": null,
            "width": null,
            "min_width": null,
            "border": null,
            "align_items": null,
            "bottom": null,
            "_model_module": "@jupyter-widgets/base",
            "top": null,
            "grid_column": null,
            "overflow_y": null,
            "overflow_x": null,
            "grid_auto_flow": null,
            "grid_area": null,
            "grid_template_columns": null,
            "flex": null,
            "_model_name": "LayoutModel",
            "justify_items": null,
            "grid_row": null,
            "max_height": null,
            "align_content": null,
            "visibility": null,
            "align_self": null,
            "height": null,
            "min_height": null,
            "padding": null,
            "grid_auto_rows": null,
            "grid_gap": null,
            "max_width": null,
            "order": null,
            "_view_module_version": "1.2.0",
            "grid_template_areas": null,
            "object_position": null,
            "object_fit": null,
            "grid_auto_columns": null,
            "margin": null,
            "display": null,
            "left": null
          }
        },
        "f8fd5d12955c4e4cbf3091bfefee0370": {
          "model_module": "@jupyter-widgets/controls",
          "model_name": "HTMLModel",
          "model_module_version": "1.5.0",
          "state": {
            "_view_name": "HTMLView",
            "style": "IPY_MODEL_27d1b26743714ed2b8841e890f00a854",
            "_dom_classes": [],
            "description": "",
            "_model_name": "HTMLModel",
            "placeholder": "​",
            "_view_module": "@jupyter-widgets/controls",
            "_model_module_version": "1.5.0",
            "value": "100%",
            "_view_count": null,
            "_view_module_version": "1.5.0",
            "description_tooltip": null,
            "_model_module": "@jupyter-widgets/controls",
            "layout": "IPY_MODEL_10c91437856d4b5788a8a05c112b0004"
          }
        },
        "825476078e154e39961d98078e28b56f": {
          "model_module": "@jupyter-widgets/controls",
          "model_name": "FloatProgressModel",
          "model_module_version": "1.5.0",
          "state": {
            "_view_name": "ProgressView",
            "style": "IPY_MODEL_43ae2de1d7494caab3942ca17fd566d9",
            "_dom_classes": [],
            "description": "",
            "_model_name": "FloatProgressModel",
            "bar_style": "success",
            "max": 1000,
            "_view_module": "@jupyter-widgets/controls",
            "_model_module_version": "1.5.0",
            "value": 1000,
            "_view_count": null,
            "_view_module_version": "1.5.0",
            "orientation": "horizontal",
            "min": 0,
            "description_tooltip": null,
            "_model_module": "@jupyter-widgets/controls",
            "layout": "IPY_MODEL_f5800a4780dd46ba95599ebcd3681cb7"
          }
        },
        "840cd394f66f4d5cb7ff01bedb57c753": {
          "model_module": "@jupyter-widgets/controls",
          "model_name": "HTMLModel",
          "model_module_version": "1.5.0",
          "state": {
            "_view_name": "HTMLView",
            "style": "IPY_MODEL_87bd5f4b2bf24b61a4edfbae6bae42e2",
            "_dom_classes": [],
            "description": "",
            "_model_name": "HTMLModel",
            "placeholder": "​",
            "_view_module": "@jupyter-widgets/controls",
            "_model_module_version": "1.5.0",
            "value": " 1000/1000 [02:01&lt;00:00, 10.26it/s]",
            "_view_count": null,
            "_view_module_version": "1.5.0",
            "description_tooltip": null,
            "_model_module": "@jupyter-widgets/controls",
            "layout": "IPY_MODEL_53254ac08f8c40f9ab855d05e6d30086"
          }
        },
        "27d1b26743714ed2b8841e890f00a854": {
          "model_module": "@jupyter-widgets/controls",
          "model_name": "DescriptionStyleModel",
          "model_module_version": "1.5.0",
          "state": {
            "_view_name": "StyleView",
            "_model_name": "DescriptionStyleModel",
            "description_width": "",
            "_view_module": "@jupyter-widgets/base",
            "_model_module_version": "1.5.0",
            "_view_count": null,
            "_view_module_version": "1.2.0",
            "_model_module": "@jupyter-widgets/controls"
          }
        },
        "10c91437856d4b5788a8a05c112b0004": {
          "model_module": "@jupyter-widgets/base",
          "model_name": "LayoutModel",
          "model_module_version": "1.2.0",
          "state": {
            "_view_name": "LayoutView",
            "grid_template_rows": null,
            "right": null,
            "justify_content": null,
            "_view_module": "@jupyter-widgets/base",
            "overflow": null,
            "_model_module_version": "1.2.0",
            "_view_count": null,
            "flex_flow": null,
            "width": null,
            "min_width": null,
            "border": null,
            "align_items": null,
            "bottom": null,
            "_model_module": "@jupyter-widgets/base",
            "top": null,
            "grid_column": null,
            "overflow_y": null,
            "overflow_x": null,
            "grid_auto_flow": null,
            "grid_area": null,
            "grid_template_columns": null,
            "flex": null,
            "_model_name": "LayoutModel",
            "justify_items": null,
            "grid_row": null,
            "max_height": null,
            "align_content": null,
            "visibility": null,
            "align_self": null,
            "height": null,
            "min_height": null,
            "padding": null,
            "grid_auto_rows": null,
            "grid_gap": null,
            "max_width": null,
            "order": null,
            "_view_module_version": "1.2.0",
            "grid_template_areas": null,
            "object_position": null,
            "object_fit": null,
            "grid_auto_columns": null,
            "margin": null,
            "display": null,
            "left": null
          }
        },
        "43ae2de1d7494caab3942ca17fd566d9": {
          "model_module": "@jupyter-widgets/controls",
          "model_name": "ProgressStyleModel",
          "model_module_version": "1.5.0",
          "state": {
            "_view_name": "StyleView",
            "_model_name": "ProgressStyleModel",
            "description_width": "",
            "_view_module": "@jupyter-widgets/base",
            "_model_module_version": "1.5.0",
            "_view_count": null,
            "_view_module_version": "1.2.0",
            "bar_color": null,
            "_model_module": "@jupyter-widgets/controls"
          }
        },
        "f5800a4780dd46ba95599ebcd3681cb7": {
          "model_module": "@jupyter-widgets/base",
          "model_name": "LayoutModel",
          "model_module_version": "1.2.0",
          "state": {
            "_view_name": "LayoutView",
            "grid_template_rows": null,
            "right": null,
            "justify_content": null,
            "_view_module": "@jupyter-widgets/base",
            "overflow": null,
            "_model_module_version": "1.2.0",
            "_view_count": null,
            "flex_flow": null,
            "width": null,
            "min_width": null,
            "border": null,
            "align_items": null,
            "bottom": null,
            "_model_module": "@jupyter-widgets/base",
            "top": null,
            "grid_column": null,
            "overflow_y": null,
            "overflow_x": null,
            "grid_auto_flow": null,
            "grid_area": null,
            "grid_template_columns": null,
            "flex": null,
            "_model_name": "LayoutModel",
            "justify_items": null,
            "grid_row": null,
            "max_height": null,
            "align_content": null,
            "visibility": null,
            "align_self": null,
            "height": null,
            "min_height": null,
            "padding": null,
            "grid_auto_rows": null,
            "grid_gap": null,
            "max_width": null,
            "order": null,
            "_view_module_version": "1.2.0",
            "grid_template_areas": null,
            "object_position": null,
            "object_fit": null,
            "grid_auto_columns": null,
            "margin": null,
            "display": null,
            "left": null
          }
        },
        "87bd5f4b2bf24b61a4edfbae6bae42e2": {
          "model_module": "@jupyter-widgets/controls",
          "model_name": "DescriptionStyleModel",
          "model_module_version": "1.5.0",
          "state": {
            "_view_name": "StyleView",
            "_model_name": "DescriptionStyleModel",
            "description_width": "",
            "_view_module": "@jupyter-widgets/base",
            "_model_module_version": "1.5.0",
            "_view_count": null,
            "_view_module_version": "1.2.0",
            "_model_module": "@jupyter-widgets/controls"
          }
        },
        "53254ac08f8c40f9ab855d05e6d30086": {
          "model_module": "@jupyter-widgets/base",
          "model_name": "LayoutModel",
          "model_module_version": "1.2.0",
          "state": {
            "_view_name": "LayoutView",
            "grid_template_rows": null,
            "right": null,
            "justify_content": null,
            "_view_module": "@jupyter-widgets/base",
            "overflow": null,
            "_model_module_version": "1.2.0",
            "_view_count": null,
            "flex_flow": null,
            "width": null,
            "min_width": null,
            "border": null,
            "align_items": null,
            "bottom": null,
            "_model_module": "@jupyter-widgets/base",
            "top": null,
            "grid_column": null,
            "overflow_y": null,
            "overflow_x": null,
            "grid_auto_flow": null,
            "grid_area": null,
            "grid_template_columns": null,
            "flex": null,
            "_model_name": "LayoutModel",
            "justify_items": null,
            "grid_row": null,
            "max_height": null,
            "align_content": null,
            "visibility": null,
            "align_self": null,
            "height": null,
            "min_height": null,
            "padding": null,
            "grid_auto_rows": null,
            "grid_gap": null,
            "max_width": null,
            "order": null,
            "_view_module_version": "1.2.0",
            "grid_template_areas": null,
            "object_position": null,
            "object_fit": null,
            "grid_auto_columns": null,
            "margin": null,
            "display": null,
            "left": null
          }
        },
        "af2d7f503614453990c949ca3867e8b6": {
          "model_module": "@jupyter-widgets/controls",
          "model_name": "HBoxModel",
          "model_module_version": "1.5.0",
          "state": {
            "_view_name": "HBoxView",
            "_dom_classes": [],
            "_model_name": "HBoxModel",
            "_view_module": "@jupyter-widgets/controls",
            "_model_module_version": "1.5.0",
            "_view_count": null,
            "_view_module_version": "1.5.0",
            "box_style": "",
            "layout": "IPY_MODEL_f900410e1a5a4090a9f5fa1a4d5f4445",
            "_model_module": "@jupyter-widgets/controls",
            "children": [
              "IPY_MODEL_feeeab0110fe46b4a624c3ecfc5a00da",
              "IPY_MODEL_6ea24d4bbea048e09311cea38ab51e89",
              "IPY_MODEL_7038da931b0440e2a4f8794b4fe521a4"
            ]
          }
        },
        "f900410e1a5a4090a9f5fa1a4d5f4445": {
          "model_module": "@jupyter-widgets/base",
          "model_name": "LayoutModel",
          "model_module_version": "1.2.0",
          "state": {
            "_view_name": "LayoutView",
            "grid_template_rows": null,
            "right": null,
            "justify_content": null,
            "_view_module": "@jupyter-widgets/base",
            "overflow": null,
            "_model_module_version": "1.2.0",
            "_view_count": null,
            "flex_flow": null,
            "width": null,
            "min_width": null,
            "border": null,
            "align_items": null,
            "bottom": null,
            "_model_module": "@jupyter-widgets/base",
            "top": null,
            "grid_column": null,
            "overflow_y": null,
            "overflow_x": null,
            "grid_auto_flow": null,
            "grid_area": null,
            "grid_template_columns": null,
            "flex": null,
            "_model_name": "LayoutModel",
            "justify_items": null,
            "grid_row": null,
            "max_height": null,
            "align_content": null,
            "visibility": null,
            "align_self": null,
            "height": null,
            "min_height": null,
            "padding": null,
            "grid_auto_rows": null,
            "grid_gap": null,
            "max_width": null,
            "order": null,
            "_view_module_version": "1.2.0",
            "grid_template_areas": null,
            "object_position": null,
            "object_fit": null,
            "grid_auto_columns": null,
            "margin": null,
            "display": null,
            "left": null
          }
        },
        "feeeab0110fe46b4a624c3ecfc5a00da": {
          "model_module": "@jupyter-widgets/controls",
          "model_name": "HTMLModel",
          "model_module_version": "1.5.0",
          "state": {
            "_view_name": "HTMLView",
            "style": "IPY_MODEL_7e8bcfba06ef4a4cad4000b4e10b981d",
            "_dom_classes": [],
            "description": "",
            "_model_name": "HTMLModel",
            "placeholder": "​",
            "_view_module": "@jupyter-widgets/controls",
            "_model_module_version": "1.5.0",
            "value": "100%",
            "_view_count": null,
            "_view_module_version": "1.5.0",
            "description_tooltip": null,
            "_model_module": "@jupyter-widgets/controls",
            "layout": "IPY_MODEL_7bb0605e3ab244d693f5f285e1222b3b"
          }
        },
        "6ea24d4bbea048e09311cea38ab51e89": {
          "model_module": "@jupyter-widgets/controls",
          "model_name": "FloatProgressModel",
          "model_module_version": "1.5.0",
          "state": {
            "_view_name": "ProgressView",
            "style": "IPY_MODEL_8ce8630cddea4ddba85a0a36cf7eaec1",
            "_dom_classes": [],
            "description": "",
            "_model_name": "FloatProgressModel",
            "bar_style": "success",
            "max": 1000,
            "_view_module": "@jupyter-widgets/controls",
            "_model_module_version": "1.5.0",
            "value": 1000,
            "_view_count": null,
            "_view_module_version": "1.5.0",
            "orientation": "horizontal",
            "min": 0,
            "description_tooltip": null,
            "_model_module": "@jupyter-widgets/controls",
            "layout": "IPY_MODEL_76cfa1be5ee140d8960b304436a58416"
          }
        },
        "7038da931b0440e2a4f8794b4fe521a4": {
          "model_module": "@jupyter-widgets/controls",
          "model_name": "HTMLModel",
          "model_module_version": "1.5.0",
          "state": {
            "_view_name": "HTMLView",
            "style": "IPY_MODEL_210889dd4aee4950b544e2be08c5c2ff",
            "_dom_classes": [],
            "description": "",
            "_model_name": "HTMLModel",
            "placeholder": "​",
            "_view_module": "@jupyter-widgets/controls",
            "_model_module_version": "1.5.0",
            "value": " 1000/1000 [00:09&lt;00:00, 114.10it/s]",
            "_view_count": null,
            "_view_module_version": "1.5.0",
            "description_tooltip": null,
            "_model_module": "@jupyter-widgets/controls",
            "layout": "IPY_MODEL_cd31ae9918374d3da039f334b5c2d706"
          }
        },
        "7e8bcfba06ef4a4cad4000b4e10b981d": {
          "model_module": "@jupyter-widgets/controls",
          "model_name": "DescriptionStyleModel",
          "model_module_version": "1.5.0",
          "state": {
            "_view_name": "StyleView",
            "_model_name": "DescriptionStyleModel",
            "description_width": "",
            "_view_module": "@jupyter-widgets/base",
            "_model_module_version": "1.5.0",
            "_view_count": null,
            "_view_module_version": "1.2.0",
            "_model_module": "@jupyter-widgets/controls"
          }
        },
        "7bb0605e3ab244d693f5f285e1222b3b": {
          "model_module": "@jupyter-widgets/base",
          "model_name": "LayoutModel",
          "model_module_version": "1.2.0",
          "state": {
            "_view_name": "LayoutView",
            "grid_template_rows": null,
            "right": null,
            "justify_content": null,
            "_view_module": "@jupyter-widgets/base",
            "overflow": null,
            "_model_module_version": "1.2.0",
            "_view_count": null,
            "flex_flow": null,
            "width": null,
            "min_width": null,
            "border": null,
            "align_items": null,
            "bottom": null,
            "_model_module": "@jupyter-widgets/base",
            "top": null,
            "grid_column": null,
            "overflow_y": null,
            "overflow_x": null,
            "grid_auto_flow": null,
            "grid_area": null,
            "grid_template_columns": null,
            "flex": null,
            "_model_name": "LayoutModel",
            "justify_items": null,
            "grid_row": null,
            "max_height": null,
            "align_content": null,
            "visibility": null,
            "align_self": null,
            "height": null,
            "min_height": null,
            "padding": null,
            "grid_auto_rows": null,
            "grid_gap": null,
            "max_width": null,
            "order": null,
            "_view_module_version": "1.2.0",
            "grid_template_areas": null,
            "object_position": null,
            "object_fit": null,
            "grid_auto_columns": null,
            "margin": null,
            "display": null,
            "left": null
          }
        },
        "8ce8630cddea4ddba85a0a36cf7eaec1": {
          "model_module": "@jupyter-widgets/controls",
          "model_name": "ProgressStyleModel",
          "model_module_version": "1.5.0",
          "state": {
            "_view_name": "StyleView",
            "_model_name": "ProgressStyleModel",
            "description_width": "",
            "_view_module": "@jupyter-widgets/base",
            "_model_module_version": "1.5.0",
            "_view_count": null,
            "_view_module_version": "1.2.0",
            "bar_color": null,
            "_model_module": "@jupyter-widgets/controls"
          }
        },
        "76cfa1be5ee140d8960b304436a58416": {
          "model_module": "@jupyter-widgets/base",
          "model_name": "LayoutModel",
          "model_module_version": "1.2.0",
          "state": {
            "_view_name": "LayoutView",
            "grid_template_rows": null,
            "right": null,
            "justify_content": null,
            "_view_module": "@jupyter-widgets/base",
            "overflow": null,
            "_model_module_version": "1.2.0",
            "_view_count": null,
            "flex_flow": null,
            "width": null,
            "min_width": null,
            "border": null,
            "align_items": null,
            "bottom": null,
            "_model_module": "@jupyter-widgets/base",
            "top": null,
            "grid_column": null,
            "overflow_y": null,
            "overflow_x": null,
            "grid_auto_flow": null,
            "grid_area": null,
            "grid_template_columns": null,
            "flex": null,
            "_model_name": "LayoutModel",
            "justify_items": null,
            "grid_row": null,
            "max_height": null,
            "align_content": null,
            "visibility": null,
            "align_self": null,
            "height": null,
            "min_height": null,
            "padding": null,
            "grid_auto_rows": null,
            "grid_gap": null,
            "max_width": null,
            "order": null,
            "_view_module_version": "1.2.0",
            "grid_template_areas": null,
            "object_position": null,
            "object_fit": null,
            "grid_auto_columns": null,
            "margin": null,
            "display": null,
            "left": null
          }
        },
        "210889dd4aee4950b544e2be08c5c2ff": {
          "model_module": "@jupyter-widgets/controls",
          "model_name": "DescriptionStyleModel",
          "model_module_version": "1.5.0",
          "state": {
            "_view_name": "StyleView",
            "_model_name": "DescriptionStyleModel",
            "description_width": "",
            "_view_module": "@jupyter-widgets/base",
            "_model_module_version": "1.5.0",
            "_view_count": null,
            "_view_module_version": "1.2.0",
            "_model_module": "@jupyter-widgets/controls"
          }
        },
        "cd31ae9918374d3da039f334b5c2d706": {
          "model_module": "@jupyter-widgets/base",
          "model_name": "LayoutModel",
          "model_module_version": "1.2.0",
          "state": {
            "_view_name": "LayoutView",
            "grid_template_rows": null,
            "right": null,
            "justify_content": null,
            "_view_module": "@jupyter-widgets/base",
            "overflow": null,
            "_model_module_version": "1.2.0",
            "_view_count": null,
            "flex_flow": null,
            "width": null,
            "min_width": null,
            "border": null,
            "align_items": null,
            "bottom": null,
            "_model_module": "@jupyter-widgets/base",
            "top": null,
            "grid_column": null,
            "overflow_y": null,
            "overflow_x": null,
            "grid_auto_flow": null,
            "grid_area": null,
            "grid_template_columns": null,
            "flex": null,
            "_model_name": "LayoutModel",
            "justify_items": null,
            "grid_row": null,
            "max_height": null,
            "align_content": null,
            "visibility": null,
            "align_self": null,
            "height": null,
            "min_height": null,
            "padding": null,
            "grid_auto_rows": null,
            "grid_gap": null,
            "max_width": null,
            "order": null,
            "_view_module_version": "1.2.0",
            "grid_template_areas": null,
            "object_position": null,
            "object_fit": null,
            "grid_auto_columns": null,
            "margin": null,
            "display": null,
            "left": null
          }
        }
      }
    }
  },
  "cells": [
    {
      "cell_type": "markdown",
      "metadata": {
        "id": "view-in-github",
        "colab_type": "text"
      },
      "source": [
        "<a href=\"https://colab.research.google.com/github/mnslarcher/cs224w-slides-to-code/blob/main/notebooks/03-node-embeddings.ipynb\" target=\"_parent\"><img src=\"https://colab.research.google.com/assets/colab-badge.svg\" alt=\"Open In Colab\"/></a>"
      ]
    },
    {
      "cell_type": "code",
      "metadata": {
        "colab": {
          "base_uri": "https://localhost:8080/"
        },
        "id": "-9p8vHs_4njz",
        "outputId": "fb776408-8b73-4aba-eb4b-e57a23357bf0"
      },
      "source": [
        "%pip install karateclub==1.2.2"
      ],
      "execution_count": 1,
      "outputs": [
        {
          "output_type": "stream",
          "name": "stdout",
          "text": [
            "Collecting karateclub==1.2.2\n",
            "  Downloading karateclub-1.2.2.tar.gz (62 kB)\n",
            "\u001b[K     |████████████████████████████████| 62 kB 314 kB/s \n",
            "\u001b[?25hRequirement already satisfied: numpy in /usr/local/lib/python3.7/dist-packages (from karateclub==1.2.2) (1.19.5)\n",
            "Requirement already satisfied: networkx in /usr/local/lib/python3.7/dist-packages (from karateclub==1.2.2) (2.6.3)\n",
            "Requirement already satisfied: decorator==4.4.2 in /usr/local/lib/python3.7/dist-packages (from karateclub==1.2.2) (4.4.2)\n",
            "Requirement already satisfied: tqdm in /usr/local/lib/python3.7/dist-packages (from karateclub==1.2.2) (4.62.3)\n",
            "Requirement already satisfied: python-louvain in /usr/local/lib/python3.7/dist-packages (from karateclub==1.2.2) (0.15)\n",
            "Requirement already satisfied: scikit-learn in /usr/local/lib/python3.7/dist-packages (from karateclub==1.2.2) (0.22.2.post1)\n",
            "Requirement already satisfied: scipy in /usr/local/lib/python3.7/dist-packages (from karateclub==1.2.2) (1.4.1)\n",
            "Collecting pygsp\n",
            "  Downloading PyGSP-0.5.1-py2.py3-none-any.whl (1.8 MB)\n",
            "\u001b[K     |████████████████████████████████| 1.8 MB 9.3 MB/s \n",
            "\u001b[?25hCollecting gensim>=4.0.0\n",
            "  Downloading gensim-4.1.2-cp37-cp37m-manylinux_2_12_x86_64.manylinux2010_x86_64.whl (24.1 MB)\n",
            "\u001b[K     |████████████████████████████████| 24.1 MB 2.4 kB/s \n",
            "\u001b[?25hRequirement already satisfied: pandas in /usr/local/lib/python3.7/dist-packages (from karateclub==1.2.2) (1.1.5)\n",
            "Requirement already satisfied: six in /usr/local/lib/python3.7/dist-packages (from karateclub==1.2.2) (1.15.0)\n",
            "Collecting python-Levenshtein\n",
            "  Downloading python-Levenshtein-0.12.2.tar.gz (50 kB)\n",
            "\u001b[K     |████████████████████████████████| 50 kB 6.3 MB/s \n",
            "\u001b[?25hRequirement already satisfied: smart-open>=1.8.1 in /usr/local/lib/python3.7/dist-packages (from gensim>=4.0.0->karateclub==1.2.2) (5.2.1)\n",
            "Requirement already satisfied: pytz>=2017.2 in /usr/local/lib/python3.7/dist-packages (from pandas->karateclub==1.2.2) (2018.9)\n",
            "Requirement already satisfied: python-dateutil>=2.7.3 in /usr/local/lib/python3.7/dist-packages (from pandas->karateclub==1.2.2) (2.8.2)\n",
            "Requirement already satisfied: setuptools in /usr/local/lib/python3.7/dist-packages (from python-Levenshtein->karateclub==1.2.2) (57.4.0)\n",
            "Requirement already satisfied: joblib>=0.11 in /usr/local/lib/python3.7/dist-packages (from scikit-learn->karateclub==1.2.2) (1.1.0)\n",
            "Building wheels for collected packages: karateclub, python-Levenshtein\n",
            "  Building wheel for karateclub (setup.py) ... \u001b[?25l\u001b[?25hdone\n",
            "  Created wheel for karateclub: filename=karateclub-1.2.2-py3-none-any.whl size=97744 sha256=149bb7d7107391f02d23537cdd87e0b71a53dc5e4c50cc8848f4cdb96d950fdc\n",
            "  Stored in directory: /root/.cache/pip/wheels/14/4b/99/abc777e42da28bc43b6959267f4f1c5eee06814a5c608a9ed2\n",
            "  Building wheel for python-Levenshtein (setup.py) ... \u001b[?25l\u001b[?25hdone\n",
            "  Created wheel for python-Levenshtein: filename=python_Levenshtein-0.12.2-cp37-cp37m-linux_x86_64.whl size=149874 sha256=a4c65c81de4464e0849b5a95bb59755aa68b606d39d55cc227c3d47d9c376197\n",
            "  Stored in directory: /root/.cache/pip/wheels/05/5f/ca/7c4367734892581bb5ff896f15027a932c551080b2abd3e00d\n",
            "Successfully built karateclub python-Levenshtein\n",
            "Installing collected packages: python-Levenshtein, pygsp, gensim, karateclub\n",
            "  Attempting uninstall: gensim\n",
            "    Found existing installation: gensim 3.6.0\n",
            "    Uninstalling gensim-3.6.0:\n",
            "      Successfully uninstalled gensim-3.6.0\n",
            "Successfully installed gensim-4.1.2 karateclub-1.2.2 pygsp-0.5.1 python-Levenshtein-0.12.2\n"
          ]
        }
      ]
    },
    {
      "cell_type": "markdown",
      "metadata": {
        "id": "t0ZcQZAp1QXd"
      },
      "source": [
        "# Node Embeddings"
      ]
    },
    {
      "cell_type": "code",
      "metadata": {
        "id": "Vaw_ycbK11l5"
      },
      "source": [
        "import random\n",
        "import time\n",
        "from typing import Optional, Tuple, Union\n",
        "\n",
        "import matplotlib.pyplot as plt\n",
        "import networkx as nx\n",
        "import numpy as np\n",
        "from IPython.display import clear_output, display"
      ],
      "execution_count": 2,
      "outputs": []
    },
    {
      "cell_type": "code",
      "metadata": {
        "id": "KAMcxVsH4C-p"
      },
      "source": [
        "def seed_everything(seed: Optional[int] = None) -> None:\n",
        "    random.seed(seed)\n",
        "    np.random.seed(seed)\n",
        "\n",
        "\n",
        "seed_everything(42)"
      ],
      "execution_count": 3,
      "outputs": []
    },
    {
      "cell_type": "markdown",
      "metadata": {
        "id": "9x7FveYu9bwl"
      },
      "source": [
        "# Random Walk"
      ]
    },
    {
      "cell_type": "code",
      "metadata": {
        "id": "4wABXs7O7FCF"
      },
      "source": [
        "class RandomWalk:\n",
        "    def __init__(\n",
        "        self,\n",
        "        G: nx.Graph,\n",
        "        node_size: int = 1500,\n",
        "        width: int = 2,\n",
        "        font_size: int = 16,\n",
        "        fig_size: Tuple[int, int] = (8, 6),\n",
        "        seed: Optional[int] = 42,\n",
        "    ) -> None:\n",
        "        self.G = G\n",
        "        self.node_size = node_size\n",
        "        self.width = width\n",
        "        self.font_size = font_size\n",
        "        self.fig_size = fig_size\n",
        "        self.seed = seed\n",
        "\n",
        "    def _draw(self, ax: plt.Axes) -> None:\n",
        "        node_colors = [\n",
        "            \"tab:blue\"\n",
        "            if node == self.current_node\n",
        "            else \"tab:orange\"\n",
        "            if node == self.starting_node\n",
        "            else \"tab:gray\"\n",
        "            if node in self.visited_nodes\n",
        "            else \"white\"\n",
        "            for node in self.G.nodes\n",
        "        ]\n",
        "        edge_colors = [\"tab:gray\" if sorted(edge) in self.visited_edges else \"black\" for edge in self.G.edges]\n",
        "        pos = nx.spring_layout(self.G, seed=self.seed)\n",
        "\n",
        "        nx.draw(\n",
        "            self.G,\n",
        "            pos=pos,\n",
        "            ax=ax,\n",
        "            node_color=node_colors,\n",
        "            edgecolors=\"black\",\n",
        "            edge_color=edge_colors,\n",
        "            node_size=self.node_size,\n",
        "            width=self.width,\n",
        "            font_size=self.font_size,\n",
        "            with_labels=True,\n",
        "        )\n",
        "\n",
        "    def run(self, num_steps: int = 5, sleep_seconds: float = 0.5) -> None:\n",
        "        self.starting_node = random.choice(list(self.G.nodes))\n",
        "        self.current_node = self.starting_node\n",
        "        self.visited_nodes = [self.current_node]\n",
        "        self.visited_edges = []\n",
        "        title = f\"Random walk ({num_steps} steps): {self.current_node}\"\n",
        "\n",
        "        fig = plt.gcf()\n",
        "        ax = fig.gca()\n",
        "        self._draw(ax)\n",
        "        plt.title(title, fontsize=self.font_size, loc=\"left\")\n",
        "        display(fig)\n",
        "        clear_output(wait=True)\n",
        "\n",
        "        for _ in range(num_steps):\n",
        "            previous_node = self.current_node\n",
        "            self.current_node = random.choice(list(self.G.neighbors(previous_node)))\n",
        "            self.visited_edges.append(sorted((previous_node, self.current_node)))\n",
        "            self.visited_nodes.append(self.current_node)\n",
        "            title += f\" -> {self.current_node}\"\n",
        "\n",
        "            time.sleep(sleep_seconds)\n",
        "            self._draw(ax)\n",
        "            plt.title(title, fontsize=self.font_size, loc=\"left\")\n",
        "            display(fig)\n",
        "            clear_output(wait=True)"
      ],
      "execution_count": 4,
      "outputs": []
    },
    {
      "cell_type": "code",
      "metadata": {
        "colab": {
          "base_uri": "https://localhost:8080/",
          "height": 375
        },
        "id": "jPEJDCp34M3K",
        "outputId": "86b3e23e-0972-4d6f-a6c3-650f4942863e"
      },
      "source": [
        "edge_list = [\n",
        "    (1, 2),\n",
        "    (1, 3),\n",
        "    (1, 4),\n",
        "    (2, 3),\n",
        "    (2, 8),\n",
        "    (3, 4),\n",
        "    (4, 5),\n",
        "    (5, 6),\n",
        "    (5, 7),\n",
        "    (5, 8),\n",
        "    (6, 7),\n",
        "    (8, 9),\n",
        "    (8, 11),\n",
        "    (9, 10),\n",
        "    (10, 11),\n",
        "    (10, 12),\n",
        "    (11, 12),\n",
        "]\n",
        "G = nx.Graph(edge_list)\n",
        "random_walk = RandomWalk(G)\n",
        "\n",
        "plt.figure(figsize=(8, 6))\n",
        "random_walk.run()\n",
        "plt.show()"
      ],
      "execution_count": 5,
      "outputs": [
        {
          "output_type": "display_data",
          "data": {
            "image/png": "[encoded data removed]",
            "text/plain": [
              "<Figure size 576x432 with 1 Axes>"
            ]
          },
          "metadata": {}
        }
      ]
    },
    {
      "cell_type": "markdown",
      "metadata": {
        "id": "sH7qXUef4qI-"
      },
      "source": [
        "# How should we randomly walk?"
      ]
    },
    {
      "cell_type": "code",
      "metadata": {
        "id": "yQrZcPnFQEmH"
      },
      "source": [
        "from karateclub import Estimator\n",
        "from sklearn.cluster import KMeans"
      ],
      "execution_count": 6,
      "outputs": []
    },
    {
      "cell_type": "code",
      "metadata": {
        "id": "Tlgvh_YuOTAi"
      },
      "source": [
        "def node_embedding_method_example(\n",
        "    G: nx.Graph, model: Estimator, n_clusters: int = 4, node_size: int = 500, font_size=16, seed: Optional[int] = 42\n",
        ") -> None:\n",
        "    model.fit(G.copy())\n",
        "    embeddings = model.get_embedding()\n",
        "    labels = KMeans(n_clusters,random_state=seed).fit_predict(embeddings)\n",
        "\n",
        "    pos = nx.spring_layout(G, seed=seed)\n",
        "    cmap = plt.get_cmap(\"tab10\")\n",
        "    node_colors = [cmap(label) for label in labels]\n",
        "\n",
        "    nx.draw(G, pos=pos, node_color=node_colors, node_size=node_size, with_labels=True)\n",
        "    plt.title(\n",
        "        f\"Colored nodes based on clusters identified by K-Means (K={n_clusters})\\n on embeddings extracted with \"\n",
        "        f\"{type(model).__name__}\",\n",
        "        fontsize=font_size,\n",
        "    )"
      ],
      "execution_count": 7,
      "outputs": []
    },
    {
      "cell_type": "code",
      "metadata": {
        "id": "-rDWjhQXJmnM"
      },
      "source": [
        "G = nx.karate_club_graph()"
      ],
      "execution_count": 8,
      "outputs": []
    },
    {
      "cell_type": "markdown",
      "metadata": {
        "id": "KDZs35Ha5HPn"
      },
      "source": [
        "## DeepWalk"
      ]
    },
    {
      "cell_type": "code",
      "metadata": {
        "id": "8zeuPQJNISNd"
      },
      "source": [
        "from karateclub import DeepWalk"
      ],
      "execution_count": 9,
      "outputs": []
    },
    {
      "cell_type": "code",
      "metadata": {
        "colab": {
          "base_uri": "https://localhost:8080/",
          "height": 354
        },
        "id": "nF2sJlZ6RiOK",
        "outputId": "aa39c27e-c695-43a5-86bf-38d341ea158c"
      },
      "source": [
        "node_embedding_method_example(G, DeepWalk(dimensions=16))"
      ],
      "execution_count": 10,
      "outputs": [
        {
          "output_type": "display_data",
          "data": {
            "image/png": "[encoded data removed]",
            "text/plain": [
              "<Figure size 432x288 with 1 Axes>"
            ]
          },
          "metadata": {}
        }
      ]
    },
    {
      "cell_type": "markdown",
      "metadata": {
        "id": "0TafmLUFEqRb"
      },
      "source": [
        "## Node2Vec"
      ]
    },
    {
      "cell_type": "code",
      "metadata": {
        "id": "-wxIbJtMNpWA"
      },
      "source": [
        "from karateclub import Node2Vec"
      ],
      "execution_count": 11,
      "outputs": []
    },
    {
      "cell_type": "code",
      "metadata": {
        "colab": {
          "base_uri": "https://localhost:8080/",
          "height": 354
        },
        "id": "5xbSjBcMNu2c",
        "outputId": "474b9d73-079f-419e-eb6c-d6245d7172a2"
      },
      "source": [
        "node_embedding_method_example(G, Node2Vec(dimensions=16))"
      ],
      "execution_count": 12,
      "outputs": [
        {
          "output_type": "display_data",
          "data": {
            "image/png": "[encoded data removed]",
            "text/plain": [
              "<Figure size 432x288 with 1 Axes>"
            ]
          },
          "metadata": {}
        }
      ]
    },
    {
      "cell_type": "markdown",
      "metadata": {
        "id": "V11_c_AVdpPF"
      },
      "source": [
        "# Embedding Entire Graphs"
      ]
    },
    {
      "cell_type": "markdown",
      "metadata": {
        "id": "5ZcjWFH8dbAT"
      },
      "source": [
        "> The following part is an adaptation of a [tutorial](https://karateclub.readthedocs.io/en/latest/notes/introduction.html#graph-embedding) from the [Karate Club](https://karateclub.readthedocs.io/en/latest/index.html#) library"
      ]
    },
    {
      "cell_type": "code",
      "metadata": {
        "id": "jsARVwZ1eFUz"
      },
      "source": [
        "from karateclub.dataset import GraphSetReader\n",
        "from sklearn.linear_model import LogisticRegression\n",
        "from sklearn.metrics import roc_auc_score\n",
        "from sklearn.model_selection import train_test_split\n",
        "from tqdm.notebook import tqdm"
      ],
      "execution_count": 13,
      "outputs": []
    },
    {
      "cell_type": "code",
      "metadata": {
        "id": "1vpgPCV1zm6B"
      },
      "source": [
        "def split_and_fit_logistic_and_print_aoc(\n",
        "    X: np.ndarray, y: np.ndarray, test_size: Union[int, float] = 0.2, seed: Optional[int] = 42\n",
        ") -> None:\n",
        "    print(\"Splitting the data:\")\n",
        "    X_train, X_test, y_train, y_test = train_test_split(X, y, test_size=test_size, random_state=seed)\n",
        "    print(\n",
        "        f\"- X_train shape: {X_train.shape}\\n- X_test shape: {X_test.shape}\"\n",
        "        f\"\\n- y_train shape: {y_train.shape}\\n- y_test shape: {y_test.shape}\"\n",
        "    )\n",
        "\n",
        "    print(\"\\nFitting a logistic regression\")\n",
        "    downstream_model = LogisticRegression(random_state=seed).fit(X_train, y_train)\n",
        "    y_hat = downstream_model.predict_proba(X_test)[:, 1]\n",
        "\n",
        "    auc = roc_auc_score(y_test, y_hat)\n",
        "    print(f\"\\nArea Under the ROC curve (AUC): {auc:.4f}\")"
      ],
      "execution_count": 14,
      "outputs": []
    },
    {
      "cell_type": "code",
      "metadata": {
        "colab": {
          "base_uri": "https://localhost:8080/",
          "height": 280
        },
        "id": "ZMdGCuh6eCyT",
        "outputId": "7689b59c-8078-4803-84ac-2c28daf6c9cc"
      },
      "source": [
        "# The task is the classification of threads from the online forum Reddit. The threads can be of of two types -\n",
        "# discussion and non-discussion based ones. Our goal is to predict the type of the thread based on the topological\n",
        "# (structural) properties of the graphs. The specific dataset that we look a 10 thousand graph subsample of the Reddit\n",
        "# 204K dataset which contains a large number of threads from the spring of 2018. The graphs in the dataset do not have\n",
        "# a specific feature.\n",
        "\n",
        "reader = GraphSetReader(\"reddit10k\")\n",
        "\n",
        "graphs = reader.get_graphs()[:1000]\n",
        "y = reader.get_target()[:1000]\n",
        "\n",
        "plt.figure(figsize=(4, 3))\n",
        "nx.draw(graphs[0], node_color=\"tab:orange\", node_size=1000, width=2, with_labels=True)\n",
        "plt.title(\"Graph 0 of the reddit10k dataset\")"
      ],
      "execution_count": 15,
      "outputs": [
        {
          "output_type": "execute_result",
          "data": {
            "text/plain": [
              "Text(0.5, 1.0, 'Graph 0 of the reddit10k dataset')"
            ]
          },
          "metadata": {},
          "execution_count": 15
        },
        {
          "output_type": "display_data",
          "data": {
            "image/png": "[encoded data removed]",
            "text/plain": [
              "<Figure size 288x216 with 1 Axes>"
            ]
          },
          "metadata": {}
        }
      ]
    },
    {
      "cell_type": "markdown",
      "metadata": {
        "id": "oIFS9N6_aSbU"
      },
      "source": [
        "# Approach 1"
      ]
    },
    {
      "cell_type": "code",
      "metadata": {
        "id": "lC7IE6yQfFuY"
      },
      "source": [
        "def get_graph_embedding(G: nx.Graph, model: Estimator) -> np.ndarray:\n",
        "    model.fit(G.copy())\n",
        "    return model.get_embedding().sum(0)"
      ],
      "execution_count": 16,
      "outputs": []
    },
    {
      "cell_type": "code",
      "metadata": {
        "colab": {
          "base_uri": "https://localhost:8080/",
          "height": 223,
          "referenced_widgets": [
            "949b035caf3344c1b75c1a38c13159ce",
            "006da55bb4774cc5b5f684f9167a7e83",
            "97922ea31ea54de1a16b6c540fa600de",
            "0be807acd97645ea9d3ae37f0c0f43e0",
            "efc7a1e0243e4235a11e703a3991d5f7",
            "6b13c3f56fbc4453b17e59c0cd5565ec",
            "0bec0114c4194a348cc0c9d9e808b226",
            "69e2a76590684b41a0c30615c4bf6979",
            "bc55081df29d4dffbbc5b9927e664a94",
            "ec53c4c779f843269e302eb0b05be232",
            "6f095cfab54b4e29902a0000854c0171"
          ]
        },
        "id": "BG1ZoPKgfnlG",
        "outputId": "b8b76802-6baf-4f63-81af-abb0c31b8c9b"
      },
      "source": [
        "print('Computing the graph embedding for each graph in the dataset using the \"sum\" approach')\n",
        "X = np.vstack([get_graph_embedding(G, DeepWalk(dimensions=16))for G in tqdm(graphs)])\n",
        "\n",
        "split_and_fit_logistic_and_print_aoc(X, y)"
      ],
      "execution_count": 17,
      "outputs": [
        {
          "output_type": "stream",
          "name": "stdout",
          "text": [
            "Computing the graph embedding for each graph in the dataset using the \"sum\" approach\n"
          ]
        },
        {
          "output_type": "display_data",
          "data": {
            "application/vnd.jupyter.widget-view+json": {
              "model_id": "949b035caf3344c1b75c1a38c13159ce",
              "version_minor": 0,
              "version_major": 2
            },
            "text/plain": [
              "  0%|          | 0/1000 [00:00<?, ?it/s]"
            ]
          },
          "metadata": {}
        },
        {
          "output_type": "stream",
          "name": "stdout",
          "text": [
            "Splitting the data:\n",
            "- X_train shape: (800, 16)\n",
            "- X_test shape: (200, 16)\n",
            "- y_train shape: (800,)\n",
            "- y_test shape: (200,)\n",
            "\n",
            "Fitting a logistic regression\n",
            "\n",
            "Area Under the ROC curve (AUC): 0.6718\n"
          ]
        }
      ]
    },
    {
      "cell_type": "markdown",
      "metadata": {
        "id": "n5rHjtl8bc3l"
      },
      "source": [
        "# Approach 2"
      ]
    },
    {
      "cell_type": "code",
      "metadata": {
        "id": "X1055wQ1wJcl"
      },
      "source": [
        "def get_graph_embedding(G: nx.Graph, model: Estimator) -> np.ndarray:\n",
        "    G = G.copy()\n",
        "    nodes = list(G.nodes())\n",
        "    virtual_node = max(nodes) + 1\n",
        "    G.add_node(virtual_node)\n",
        "    G.add_edges_from([(virtual_node, node) for node in nodes])\n",
        "    model.fit(G)\n",
        "    return model.get_embedding()[-1]"
      ],
      "execution_count": 18,
      "outputs": []
    },
    {
      "cell_type": "code",
      "metadata": {
        "id": "Gb9tdNbl4E0G",
        "outputId": "a9662603-e4d8-4cbc-feef-220789e7f9e7",
        "colab": {
          "base_uri": "https://localhost:8080/",
          "height": 223,
          "referenced_widgets": [
            "2585dce4a90b4244bc3d032927bbfc32",
            "dc0a1af9749e4c81909514de424b3bbd",
            "f8fd5d12955c4e4cbf3091bfefee0370",
            "825476078e154e39961d98078e28b56f",
            "840cd394f66f4d5cb7ff01bedb57c753",
            "27d1b26743714ed2b8841e890f00a854",
            "10c91437856d4b5788a8a05c112b0004",
            "43ae2de1d7494caab3942ca17fd566d9",
            "f5800a4780dd46ba95599ebcd3681cb7",
            "87bd5f4b2bf24b61a4edfbae6bae42e2",
            "53254ac08f8c40f9ab855d05e6d30086"
          ]
        }
      },
      "source": [
        "print('Computing the graph embedding for each graph in the dataset using the \"virtual node\" approach')\n",
        "X = np.vstack([get_graph_embedding(G, DeepWalk(dimensions=16))for G in tqdm(graphs)])\n",
        "\n",
        "split_and_fit_logistic_and_print_aoc(X, y)"
      ],
      "execution_count": 19,
      "outputs": [
        {
          "output_type": "stream",
          "name": "stdout",
          "text": [
            "Computing the graph embedding for each graph in the dataset using the \"virtual node\" approach\n"
          ]
        },
        {
          "output_type": "display_data",
          "data": {
            "application/vnd.jupyter.widget-view+json": {
              "model_id": "2585dce4a90b4244bc3d032927bbfc32",
              "version_minor": 0,
              "version_major": 2
            },
            "text/plain": [
              "  0%|          | 0/1000 [00:00<?, ?it/s]"
            ]
          },
          "metadata": {}
        },
        {
          "output_type": "stream",
          "name": "stdout",
          "text": [
            "Splitting the data:\n",
            "- X_train shape: (800, 16)\n",
            "- X_test shape: (200, 16)\n",
            "- y_train shape: (800,)\n",
            "- y_test shape: (200,)\n",
            "\n",
            "Fitting a logistic regression\n",
            "\n",
            "Area Under the ROC curve (AUC): 0.7064\n"
          ]
        }
      ]
    },
    {
      "cell_type": "markdown",
      "metadata": {
        "id": "lPzPWxLYbnOC"
      },
      "source": [
        "# Approach 3"
      ]
    },
    {
      "cell_type": "code",
      "metadata": {
        "id": "jLDjaXm_75XZ",
        "outputId": "9f6de348-a7c2-4610-cfe6-1f1f6dcbe93a",
        "colab": {
          "base_uri": "https://localhost:8080/"
        }
      },
      "source": [
        "!git clone https://github.com/nd7141/AWE.git\n",
        "\n",
        "%cd AWE\n",
        "\n",
        "!git checkout fc4d3c4d180e5793d6cd4ba9235889067039d038\n",
        "\n",
        "from AnonymousWalkKernel import AnonymousWalks\n",
        "\n",
        "%cd .."
      ],
      "execution_count": 20,
      "outputs": [
        {
          "output_type": "stream",
          "name": "stdout",
          "text": [
            "Cloning into 'AWE'...\n",
            "remote: Enumerating objects: 515, done.\u001b[K\n",
            "remote: Total 515 (delta 0), reused 0 (delta 0), pack-reused 515\u001b[K\n",
            "Receiving objects: 100% (515/515), 2.38 MiB | 19.51 MiB/s, done.\n",
            "Resolving deltas: 100% (338/338), done.\n",
            "/content/AWE\n",
            "Note: checking out 'fc4d3c4d180e5793d6cd4ba9235889067039d038'.\n",
            "\n",
            "You are in 'detached HEAD' state. You can look around, make experimental\n",
            "changes and commit them, and you can discard any commits you make in this\n",
            "state without impacting any branches by performing another checkout.\n",
            "\n",
            "If you want to create a new branch to retain commits you create, you may\n",
            "do so (now or later) by using -b with the checkout command again. Example:\n",
            "\n",
            "  git checkout -b <new-branch-name>\n",
            "\n",
            "HEAD is now at fc4d3c4 Fix setup for FB parameters\n",
            "/content\n"
          ]
        }
      ]
    },
    {
      "cell_type": "code",
      "metadata": {
        "id": "dwGqU3_T_Cf1"
      },
      "source": [
        "def get_graph_embedding(G: nx.Graph, num_steps: int = 3) -> np.ndarray:\n",
        "    embedding = AnonymousWalks(G=G).embed(steps=num_steps, verbose=False)[0]\n",
        "    return np.asarray(embedding)"
      ],
      "execution_count": 21,
      "outputs": []
    },
    {
      "cell_type": "code",
      "metadata": {
        "id": "_vUoUeq98D1L",
        "outputId": "7591fb8b-dc4d-4378-d332-d82d8fefdfb9",
        "colab": {
          "base_uri": "https://localhost:8080/",
          "height": 223,
          "referenced_widgets": [
            "af2d7f503614453990c949ca3867e8b6",
            "f900410e1a5a4090a9f5fa1a4d5f4445",
            "feeeab0110fe46b4a624c3ecfc5a00da",
            "6ea24d4bbea048e09311cea38ab51e89",
            "7038da931b0440e2a4f8794b4fe521a4",
            "7e8bcfba06ef4a4cad4000b4e10b981d",
            "7bb0605e3ab244d693f5f285e1222b3b",
            "8ce8630cddea4ddba85a0a36cf7eaec1",
            "76cfa1be5ee140d8960b304436a58416",
            "210889dd4aee4950b544e2be08c5c2ff",
            "cd31ae9918374d3da039f334b5c2d706"
          ]
        }
      },
      "source": [
        "print('Computing the graph embedding for each graph in the dataset using the \"Anonymous Walk\" approach')\n",
        "X = np.vstack([get_graph_embedding(G)for G in tqdm(graphs)])\n",
        "\n",
        "split_and_fit_logistic_and_print_aoc(X, y)"
      ],
      "execution_count": 22,
      "outputs": [
        {
          "output_type": "stream",
          "name": "stdout",
          "text": [
            "Computing the graph embedding for each graph in the dataset using the \"Anonymous Walk\" approach\n"
          ]
        },
        {
          "output_type": "display_data",
          "data": {
            "application/vnd.jupyter.widget-view+json": {
              "model_id": "af2d7f503614453990c949ca3867e8b6",
              "version_minor": 0,
              "version_major": 2
            },
            "text/plain": [
              "  0%|          | 0/1000 [00:00<?, ?it/s]"
            ]
          },
          "metadata": {}
        },
        {
          "output_type": "stream",
          "name": "stdout",
          "text": [
            "Splitting the data:\n",
            "- X_train shape: (800, 7)\n",
            "- X_test shape: (200, 7)\n",
            "- y_train shape: (800,)\n",
            "- y_test shape: (200,)\n",
            "\n",
            "Fitting a logistic regression\n",
            "\n",
            "Area Under the ROC curve (AUC): 0.7830\n"
          ]
        }
      ]
    }
  ]
}