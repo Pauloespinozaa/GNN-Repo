{
  "nbformat": 4,
  "nbformat_minor": 0,
  "metadata": {
    "colab": {
      "name": "03-node-embeddings.ipynb",
      "provenance": [],
      "authorship_tag": "ABX9TyOaYSvEnUnOcethQkNRr7eQ",
      "include_colab_link": true
    },
    "kernelspec": {
      "name": "python3",
      "display_name": "Python 3"
    },
    "language_info": {
      "name": "python"
    }
  },
  "cells": [
    {
      "cell_type": "markdown",
      "metadata": {
        "id": "view-in-github",
        "colab_type": "text"
      },
      "source": [
        "<a href=\"https://colab.research.google.com/github/mnslarcher/cs224w-slides-to-code/blob/main/notebooks/03-node-embeddings.ipynb\" target=\"_parent\"><img src=\"https://colab.research.google.com/assets/colab-badge.svg\" alt=\"Open In Colab\"/></a>"
      ]
    },
    {
      "cell_type": "markdown",
      "metadata": {
        "id": "Lnuv62fS1HTL"
      },
      "source": [
        "<font color='red'>Disclaimer: this notebook is still a work in progress</font>"
      ]
    },
    {
      "cell_type": "markdown",
      "metadata": {
        "id": "t0ZcQZAp1QXd"
      },
      "source": [
        "# Node Embeddings"
      ]
    }
  ]
}