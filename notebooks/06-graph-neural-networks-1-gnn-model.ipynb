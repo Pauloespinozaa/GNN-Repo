{
  "nbformat": 4,
  "nbformat_minor": 0,
  "metadata": {
    "colab": {
      "name": "06-graph-neural-networks-1-gnn-model.ipynb",
      "provenance": [],
      "authorship_tag": "ABX9TyMpOjb2DQsyhVEJJXJ/ItOg",
      "include_colab_link": true
    },
    "kernelspec": {
      "name": "python3",
      "display_name": "Python 3"
    },
    "language_info": {
      "name": "python"
    }
  },
  "cells": [
    {
      "cell_type": "markdown",
      "metadata": {
        "id": "view-in-github",
        "colab_type": "text"
      },
      "source": [
        "<a href=\"https://colab.research.google.com/github/mnslarcher/cs224w-slides-to-code/blob/main/notebooks/06-graph-neural-networks-1-gnn-model.ipynb\" target=\"_parent\"><img src=\"https://colab.research.google.com/assets/colab-badge.svg\" alt=\"Open In Colab\"/></a>"
      ]
    },
    {
      "cell_type": "markdown",
      "metadata": {
        "id": "0CVfKwIhYzz7"
      },
      "source": [
        "> This notebook is WIP"
      ]
    },
    {
      "cell_type": "markdown",
      "metadata": {
        "id": "oV56fjpNYjCR"
      },
      "source": [
        "# Graph Neural Networks 1: GNN Model"
      ]
    }
  ]
}