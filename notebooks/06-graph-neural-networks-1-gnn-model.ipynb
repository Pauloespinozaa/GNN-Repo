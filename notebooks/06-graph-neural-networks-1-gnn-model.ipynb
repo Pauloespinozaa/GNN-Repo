{
  "nbformat": 4,
  "nbformat_minor": 0,
  "metadata": {
    "colab": {
      "name": "06-graph-neural-networks-1-gnn-model.ipynb",
      "provenance": [],
      "authorship_tag": "ABX9TyM4BJ9SfFG7mXOuMcdhOFtF",
      "include_colab_link": true
    },
    "kernelspec": {
      "name": "python3",
      "display_name": "Python 3"
    },
    "language_info": {
      "name": "python"
    }
  },
  "cells": [
    {
      "cell_type": "markdown",
      "metadata": {
        "id": "view-in-github",
        "colab_type": "text"
      },
      "source": [
        "<a href=\"https://colab.research.google.com/github/mnslarcher/cs224w-slides-to-code/blob/main/notebooks/06-graph-neural-networks-1-gnn-model.ipynb\" target=\"_parent\"><img src=\"https://colab.research.google.com/assets/colab-badge.svg\" alt=\"Open In Colab\"/></a>"
      ]
    },
    {
      "cell_type": "code",
      "metadata": {
        "id": "PJSONe-045tN"
      },
      "source": [
        "try:\n",
        "    # Check if PyTorch Geometric is installed:\n",
        "    import torch_geometric\n",
        "except ImportError:\n",
        "    # If PyTorch Geometric is not installed, install it.\n",
        "    %pip install -q torch-scatter -f https://pytorch-geometric.com/whl/torch-1.7.0+cu101.html\n",
        "    %pip install -q torch-sparse -f https://pytorch-geometric.com/whl/torch-1.7.0+cu101.html\n",
        "    %pip install -q torch-geometric"
      ],
      "execution_count": null,
      "outputs": []
    },
    {
      "cell_type": "markdown",
      "metadata": {
        "id": "oV56fjpNYjCR"
      },
      "source": [
        "# Graph Neural Networks 1: GNN Model"
      ]
    },
    {
      "cell_type": "code",
      "metadata": {
        "id": "2OtSkdGl48E0",
        "colab": {
          "base_uri": "https://localhost:8080/"
        },
        "outputId": "7efa478a-75df-4efb-991a-a3ac877f6469"
      },
      "source": [
        "from typing import Tuple\n",
        "\n",
        "import matplotlib.pyplot as plt\n",
        "import numpy as np\n",
        "import torch\n",
        "import torch.nn.functional as F\n",
        "import torch_geometric.transforms as T\n",
        "from torch.optim import Optimizer\n",
        "from torch_geometric.data import Data\n",
        "from torch_geometric.datasets import Planetoid\n",
        "from torch_geometric.nn import GCNConv\n",
        "from torch_geometric.utils import accuracy\n",
        "from typing_extensions import Literal\n",
        "\n",
        "torch.manual_seed(0)"
      ],
      "execution_count": null,
      "outputs": [
        {
          "output_type": "execute_result",
          "data": {
            "text/plain": [
              "<torch._C.Generator at 0x7f94870e9bf0>"
            ]
          },
          "metadata": {},
          "execution_count": 2
        }
      ]
    },
    {
      "cell_type": "markdown",
      "metadata": {
        "id": "KYGSasdA5ziu"
      },
      "source": [
        "## Cora Dataset"
      ]
    },
    {
      "cell_type": "markdown",
      "metadata": {
        "id": "_iseKiaT5GZ7"
      },
      "source": [
        "> From The [Papers With Code page of the Cora Dataset](https://paperswithcode.com/dataset/cora): \"The Cora dataset consists of 2708 scientific publications classified into one of seven classes. The citation network consists of 5429 links. Each publication in the dataset is described by a 0/1-valued word vector indicating the absence/presence of the corresponding word from the dictionary. The dictionary consists of 1433 unique words.\""
      ]
    },
    {
      "cell_type": "markdown",
      "metadata": {
        "id": "z518Aul25JZv"
      },
      "source": [
        "> From [Kipf & Welling (ICLR 2017)](https://arxiv.org/abs/1609.02907): \"[...] evaluate prediction accuracy on a test set of 1,000 labeled examples. [...] validation set of 500 labeled examples for hyperparameter optimization (dropout rate for all layers, L2 regularization factor for the first GCN layer and number of hidden units). We do not use the validation set labels for training.\""
      ]
    },
    {
      "cell_type": "code",
      "metadata": {
        "id": "6Gg7oGlS5NRX",
        "colab": {
          "base_uri": "https://localhost:8080/"
        },
        "outputId": "b8d10e40-275d-4b51-9907-b66d23465c6b"
      },
      "source": [
        "dataset = Planetoid(\"/tmp/Cora\", name=\"Cora\")\n",
        "num_nodes = dataset.data.num_nodes\n",
        "# For num. edges see:\n",
        "# - https://github.com/pyg-team/pytorch_geometric/issues/343\n",
        "# - https://github.com/pyg-team/pytorch_geometric/issues/852\n",
        "num_edges = dataset.data.num_edges // 2\n",
        "train_len = dataset[0].train_mask.sum()\n",
        "val_len = dataset[0].val_mask.sum()\n",
        "test_len = dataset[0].test_mask.sum()\n",
        "other_len = num_nodes - train_len - val_len - test_len\n",
        "print(f\"Dataset: {dataset.name}\")\n",
        "print(f\"Num. nodes: {num_nodes} (train={train_len}, val={val_len}, test={test_len}, other={other_len})\")\n",
        "print(f\"Num. edges: {num_edges}\")\n",
        "print(f\"Num. node features: {dataset.num_node_features}\")\n",
        "print(f\"Num. classes: {dataset.num_classes}\")\n",
        "print(f\"Dataset len.: {dataset.len()}\")"
      ],
      "execution_count": null,
      "outputs": [
        {
          "output_type": "stream",
          "name": "stdout",
          "text": [
            "Dataset: Cora\n",
            "Num. nodes: 2708 (train=140, val=500, test=1000, other=1068)\n",
            "Num. edges: 5278\n",
            "Num. node features: 1433\n",
            "Num. classes: 7\n",
            "Dataset len.: 1\n"
          ]
        }
      ]
    },
    {
      "cell_type": "markdown",
      "metadata": {
        "id": "hBzvCryI5Uba"
      },
      "source": [
        "> From [Kipf & Welling (ICLR 2017)](https://arxiv.org/abs/1609.02907): \"We initialize weights using the initialization described in Glorot & Bengio (2010) and accordingly (row-)normalize input feature vectors.\""
      ]
    },
    {
      "cell_type": "code",
      "metadata": {
        "id": "nljKuAA85XDE",
        "colab": {
          "base_uri": "https://localhost:8080/"
        },
        "outputId": "48bc3cd5-4d3b-4c1f-90ff-e435c28962da"
      },
      "source": [
        "dataset = Planetoid(\"/tmp/Cora\", name=\"Cora\")\n",
        "print(f\"Sum of row values without normalization: {dataset[0].x.sum(dim=-1)}\")\n",
        "\n",
        "dataset = Planetoid(\"/tmp/Cora\", name=\"Cora\", transform=T.NormalizeFeatures())\n",
        "print(f\"Sum of row values with normalization: {dataset[0].x.sum(dim=-1)}\")"
      ],
      "execution_count": null,
      "outputs": [
        {
          "output_type": "stream",
          "name": "stdout",
          "text": [
            "Sum of row values without normalization:: tensor([ 9., 23., 19.,  ..., 18., 14., 13.])\n",
            "Sum of row values with normalization:: tensor([1.0000, 1.0000, 1.0000,  ..., 1.0000, 1.0000, 1.0000])\n"
          ]
        }
      ]
    },
    {
      "cell_type": "markdown",
      "metadata": {
        "id": "c0Jw_TT35AiO"
      },
      "source": [
        "## Graph Convolutional Networks"
      ]
    },
    {
      "cell_type": "markdown",
      "metadata": {
        "id": "b19trEwa5Y-W"
      },
      "source": [
        "> From [Kipf & Welling (ICLR 2017)](https://arxiv.org/abs/1609.02907): \"We used the following sets of hyperparameters for Citeseer, Cora and Pubmed: 0.5 (dropout rate), $5\\cdot10^{-4}$ (L2 regularization) and 16 (number of hidden units);\""
      ]
    },
    {
      "cell_type": "code",
      "metadata": {
        "id": "-m_i0aCa5eM4"
      },
      "source": [
        "class GCN(torch.nn.Module):\n",
        "    def __init__(\n",
        "        self,\n",
        "        num_node_features: int,\n",
        "        num_classes: int,\n",
        "        hidden_dim: int = 16,\n",
        "        dropout_rate: float = 0.5,\n",
        "    ) -> None:\n",
        "        super().__init__()\n",
        "        self.dropout1 = torch.nn.Dropout(dropout_rate)\n",
        "        self.conv1 = GCNConv(num_node_features, hidden_dim)\n",
        "        self.relu = torch.nn.ReLU()\n",
        "        self.dropout2 = torch.nn.Dropout(dropout_rate)\n",
        "        self.conv2 = GCNConv(hidden_dim, num_classes)\n",
        "\n",
        "    def forward(self, data: Data) -> torch.Tensor:\n",
        "        x, edge_index = data.x, data.edge_index\n",
        "        x = self.dropout1(x)\n",
        "        x = self.conv1(x, edge_index)\n",
        "        x = self.relu(x)\n",
        "        x = self.dropout2(x)\n",
        "        x = self.conv2(x, edge_index)\n",
        "        return x"
      ],
      "execution_count": null,
      "outputs": []
    },
    {
      "cell_type": "code",
      "metadata": {
        "id": "jKQH-HKS5hVt",
        "colab": {
          "base_uri": "https://localhost:8080/"
        },
        "outputId": "e98433b7-97c9-4469-e409-6aa8b07dea4e"
      },
      "source": [
        "print(\"Graph Convolutional Network (GCN):\")\n",
        "GCN(dataset.num_node_features, dataset.num_classes)"
      ],
      "execution_count": null,
      "outputs": [
        {
          "output_type": "stream",
          "name": "stdout",
          "text": [
            "Graph Convolutional Network (GCN):\n"
          ]
        },
        {
          "output_type": "execute_result",
          "data": {
            "text/plain": [
              "GCN(\n",
              "  (dropout1): Dropout(p=0.5, inplace=False)\n",
              "  (conv1): GCNConv(1433, 16)\n",
              "  (relu): ReLU()\n",
              "  (dropout2): Dropout(p=0.5, inplace=False)\n",
              "  (conv2): GCNConv(16, 7)\n",
              ")"
            ]
          },
          "metadata": {},
          "execution_count": 6
        }
      ]
    },
    {
      "cell_type": "markdown",
      "metadata": {
        "id": "mN5NPwag6GPT"
      },
      "source": [
        "## Training and Evaluation"
      ]
    },
    {
      "cell_type": "code",
      "metadata": {
        "id": "EXhqSwhK5jmA"
      },
      "source": [
        "def train_step(model: torch.nn.Module, data: Data, optimizer: torch.optim.Optimizer) -> Tuple[float, float]:\n",
        "    model.train()\n",
        "    optimizer.zero_grad()\n",
        "    mask = data.train_mask\n",
        "    out = model(data)[mask]\n",
        "    pred = out.argmax(dim=1)\n",
        "    target = data.y[mask]\n",
        "    # Cross-entropy loss\n",
        "    loss = F.cross_entropy(out, target)\n",
        "    # + L2 regularization to the first layer only\n",
        "    # for name, params in model.state_dict().items():\n",
        "    #     if name.startswith(\"conv1\"):\n",
        "    #         loss += 5e-4 * params.square().sum() / 2.0\n",
        "\n",
        "    acc = accuracy(pred, target)\n",
        "    loss.backward()\n",
        "    optimizer.step()\n",
        "    return loss.item(), acc\n",
        "\n",
        "\n",
        "@torch.no_grad()\n",
        "def eval_step(\n",
        "    model: torch.nn.Module, data: Data, stage: Literal[\"train\", \"val\", \"test\"] = \"val\"\n",
        ") -> Tuple[float, float]:\n",
        "    model.eval()\n",
        "    mask = getattr(data, f\"{stage}_mask\")\n",
        "    out = model(data)[mask]\n",
        "    pred = out.argmax(dim=1)\n",
        "    target = data.y[mask]\n",
        "    # Cross-entropy loss\n",
        "    loss = F.cross_entropy(out, target)\n",
        "    # + L2 regularization to the first layer only\n",
        "    # for name, params in model.state_dict().items():\n",
        "    #     if name.startswith(\"conv1\"):\n",
        "    #         loss += 5e-4 * params.square().sum() / 2.0\n",
        "\n",
        "    acc = accuracy(pred, target)\n",
        "    return loss.item(), acc"
      ],
      "execution_count": null,
      "outputs": []
    },
    {
      "cell_type": "markdown",
      "metadata": {
        "id": "oMqTMjZD5mTy"
      },
      "source": [
        "> From [Kipf & Welling (ICLR 2017)](https://arxiv.org/abs/1609.02907): \"We train all models for a maximum of 200 epochs (training iterations) using Adam (Kingma & Ba, 2015) with a learning rate of 0.01 and early stopping with a window size of 10, i.e. we stop training if the validation loss does not decrease for 10 consecutive epochs.\""
      ]
    },
    {
      "cell_type": "code",
      "metadata": {
        "id": "N2K0-PST5q1K",
        "colab": {
          "base_uri": "https://localhost:8080/"
        },
        "outputId": "f789b203-cd85-4bf9-e712-3def1dd0b2fd"
      },
      "source": [
        "MAX_EPOCHS = 200\n",
        "LEARNING_RATE = 0.01\n",
        "WEIGHT_DECAY = 5e-4\n",
        "EARLY_STOPPING = 10\n",
        "\n",
        "\n",
        "device = torch.device(\"cuda\" if torch.cuda.is_available() else \"cpu\")\n",
        "model = GCN(dataset.num_node_features, dataset.num_classes).to(device)\n",
        "data = dataset[0].to(device)\n",
        "# Note: the official implementation applies L2 regularization to the first layer only\n",
        "optimizer = torch.optim.Adam(model.parameters(), lr=LEARNING_RATE, weight_decay=WEIGHT_DECAY)\n",
        "\n",
        "history = {\"loss\": [], \"val_loss\": [], \"acc\": [], \"val_acc\": []}\n",
        "for epoch in range(MAX_EPOCHS):\n",
        "    loss, acc = train_step(model, data, optimizer)\n",
        "    val_loss, val_acc = eval_step(model, data)\n",
        "    history[\"loss\"].append(loss)\n",
        "    history[\"acc\"].append(acc)\n",
        "    history[\"val_loss\"].append(val_loss)\n",
        "    history[\"val_acc\"].append(val_acc)\n",
        "    # The official implementation in TensorFlow is a little different from what is described in the paper...\n",
        "    if epoch > EARLY_STOPPING and val_loss > np.mean(history[\"val_loss\"][-(EARLY_STOPPING + 1) : -1]):\n",
        "        print(f\"\\nEarly stopping...\")\n",
        "        break\n",
        "\n",
        "    if epoch % 20 == 0:\n",
        "        print(f\"\\nEpoch: {epoch}\\n----------\")\n",
        "        print(f\"Train. loss: {loss:.4f} | Train. acc: {acc:.4f}\")\n",
        "        print(f\"  Val. loss: {val_loss:.4f} |   Val. acc: {val_acc:.4f}\")\n",
        "\n",
        "test_loss, test_acc = eval_step(model, data, stage=\"test\")\n",
        "print(f\"\\nEpoch: {epoch}\\n----------\")\n",
        "print(f\"Train. loss: {loss:.4f} | Train. acc: {acc:.4f}\")\n",
        "print(f\"  Val. loss: {val_loss:.4f} |   Val. acc: {val_acc:.4f}\")\n",
        "print(f\" Test. loss: {test_loss:.4f} |  Test. acc: {test_acc:.4f}\")"
      ],
      "execution_count": null,
      "outputs": [
        {
          "output_type": "stream",
          "name": "stdout",
          "text": [
            "\n",
            "Epoch: 0\n",
            "----------\n",
            "Train. loss: 1.9460 | Train. acc: 0.0857\n",
            "  Val. loss: 1.9454 |   Val. acc: 0.1300\n",
            "\n",
            "Epoch: 20\n",
            "----------\n",
            "Train. loss: 1.7193 | Train. acc: 0.8000\n",
            "  Val. loss: 1.8089 |   Val. acc: 0.7800\n",
            "\n",
            "Epoch: 40\n",
            "----------\n",
            "Train. loss: 1.3213 | Train. acc: 0.8786\n",
            "  Val. loss: 1.5823 |   Val. acc: 0.7760\n",
            "\n",
            "Epoch: 60\n",
            "----------\n",
            "Train. loss: 0.9489 | Train. acc: 0.8786\n",
            "  Val. loss: 1.3054 |   Val. acc: 0.7980\n",
            "\n",
            "Epoch: 80\n",
            "----------\n",
            "Train. loss: 0.7284 | Train. acc: 0.9000\n",
            "  Val. loss: 1.1067 |   Val. acc: 0.8080\n",
            "\n",
            "Epoch: 100\n",
            "----------\n",
            "Train. loss: 0.6327 | Train. acc: 0.9143\n",
            "  Val. loss: 1.0025 |   Val. acc: 0.8040\n",
            "\n",
            "Epoch: 120\n",
            "----------\n",
            "Train. loss: 0.5374 | Train. acc: 0.9286\n",
            "  Val. loss: 0.9341 |   Val. acc: 0.8000\n",
            "\n",
            "Early stopping...\n",
            "\n",
            "Epoch: 135\n",
            "----------\n",
            "Train. loss: 0.5524 | Train. acc: 0.9214\n",
            "  Val. loss: 0.9121 |   Val. acc: 0.7860\n",
            " Test. loss: 0.8630 |  Test. acc: 0.8130\n"
          ]
        }
      ]
    },
    {
      "cell_type": "code",
      "metadata": {
        "id": "rfnVSgcn5tjT",
        "colab": {
          "base_uri": "https://localhost:8080/",
          "height": 295
        },
        "outputId": "a54c8c96-f62f-49e8-994f-59198fadf16c"
      },
      "source": [
        "plt.figure(figsize=(12, 4))\n",
        "\n",
        "ax1 = plt.subplot(121)\n",
        "ax1.set_title(\"Loss\")\n",
        "plt.plot(history[\"loss\"], label=\"train\")\n",
        "plt.plot(history[\"val_loss\"], label=\"val\")\n",
        "plt.xlabel(\"Epoch\")\n",
        "plt.legend()\n",
        "\n",
        "ax2 = plt.subplot(122)\n",
        "ax2.set_title(\"Accuracy\")\n",
        "plt.plot(history[\"acc\"], label=\"train\")\n",
        "plt.plot(history[\"val_acc\"], label=\"val\")\n",
        "plt.xlabel(\"Epoch\")\n",
        "plt.legend()\n",
        "\n",
        "plt.show()"
      ],
      "execution_count": null,
      "outputs": [
        {
          "output_type": "display_data",
          "data": {
            "image/png": "[encoded data removed]",
            "text/plain": [
              "<Figure size 864x288 with 2 Axes>"
            ]
          },
          "metadata": {
            "needs_background": "light"
          }
        }
      ]
    }
  ]
}