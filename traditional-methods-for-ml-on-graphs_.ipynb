{
  "nbformat": 4,
  "nbformat_minor": 0,
  "metadata": {
    "colab": {
      "name": "traditional-methods-for-ml-on-graphs .ipynb",
      "provenance": [],
      "authorship_tag": "ABX9TyPjtz50Math310ik2Qt13/F",
      "include_colab_link": true
    },
    "kernelspec": {
      "name": "python3",
      "display_name": "Python 3"
    },
    "language_info": {
      "name": "python"
    }
  },
  "cells": [
    {
      "cell_type": "markdown",
      "metadata": {
        "id": "view-in-github",
        "colab_type": "text"
      },
      "source": [
        "<a href=\"https://colab.research.google.com/github/mnslarcher/cs224w-machine-learning-with-graphs/blob/main/traditional-methods-for-ml-on-graphs_.ipynb\" target=\"_parent\"><img src=\"https://colab.research.google.com/assets/colab-badge.svg\" alt=\"Open In Colab\"/></a>"
      ]
    },
    {
      "cell_type": "markdown",
      "metadata": {
        "id": "k7-IdhDtXoa-"
      },
      "source": [
        "# <font color='red'>Disclaimer: this notebook is still a work in progress</font>"
      ]
    },
    {
      "cell_type": "code",
      "metadata": {
        "id": "PYQBMkhxYWqC"
      },
      "source": [
        ""
      ],
      "execution_count": null,
      "outputs": []
    }
  ]
}